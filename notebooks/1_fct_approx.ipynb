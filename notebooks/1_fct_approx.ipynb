{
 "cells": [
  {
   "cell_type": "markdown",
   "metadata": {},
   "source": [
    "# What is approximating a function?"
   ]
  },
  {
   "cell_type": "markdown",
   "metadata": {},
   "source": [
    "The goal of this notebook is twice: giving simple example of what is approximating a function but also playing with jupyter, numpy and bokeh.  \n",
    "Let's start by importing libraries for using jupyter functions such as interact:"
   ]
  },
  {
   "cell_type": "code",
   "execution_count": null,
   "metadata": {
    "collapsed": true
   },
   "outputs": [],
   "source": [
    "from __future__ import print_function\n",
    "from ipywidgets import interact, interactive, fixed, interact_manual\n",
    "import ipywidgets as widgets"
   ]
  },
  {
   "cell_type": "markdown",
   "metadata": {},
   "source": [
    "## Linear regression: a simple example of function approximation"
   ]
  },
  {
   "cell_type": "markdown",
   "metadata": {},
   "source": [
    "In this example, we will generate our own dataset. Because we would like those data \"realistic\" as much as possible, we will add some noise.  \n",
    "Creating your own dataset is very common in data science. It allows you to create \"proof of concept\" or to pre-train models. It can also increase the amount of data you have."
   ]
  },
  {
   "cell_type": "markdown",
   "metadata": {},
   "source": [
    "Then we will apply very basic numpy function to solve regular fucntion approximation. In this case it's linear regression: **we will approximate a linear function**."
   ]
  },
  {
   "cell_type": "markdown",
   "metadata": {},
   "source": [
    "One way to do this is to create an estimator. In this case, we are using **M**ean **S**quared **E**rror (MSE). Let's see below:"
   ]
  },
  {
   "cell_type": "code",
   "execution_count": null,
   "metadata": {},
   "outputs": [],
   "source": [
    "# We are importing everything we need for bokeh\n",
    "from bokeh.io import push_notebook, show, output_notebook\n",
    "from bokeh.layouts import row\n",
    "from bokeh.plotting import figure\n",
    "import numpy as np\n",
    "output_notebook() # this is for showing your plot inside your notebook"
   ]
  },
  {
   "cell_type": "code",
   "execution_count": null,
   "metadata": {},
   "outputs": [],
   "source": [
    "@interact(n_points=50, a=0.8, b=(-10,+10,1), ar=0.8, br=(-10,+10,1))\n",
    "def linear_regression(n_points, a, b, ar, br):\n",
    "    # This function is generating fake dataset (n_points) based on a linear function (a*x + b = t),\n",
    "    # adding some noise to make it \"real\"\n",
    "    # Approximating a and b\n",
    "    # Then plotting graphs with bokeh\n",
    "\n",
    "    t=np.linspace(-5,5,n_points)\n",
    "    \n",
    "    x=np.polyval([a,b],t)\n",
    "\n",
    "    # Add some noise\n",
    "    xn=x+np.random.randn(n_points)\n",
    "\n",
    "    # Linear regressison -polyfit - polyfit can be used other orders polys\n",
    "    \n",
    "    # With this line, you can calculate automatically ar and br\n",
    "    #(ar,br)=np.polyfit(t,xn,1)\n",
    "    \n",
    "    xr=np.polyval([ar,br],t)\n",
    "\n",
    "    # Compute the MSE (just for having an idea, it's not used inside polyfit)\n",
    "    err=np.sqrt(sum((xr-xn)**2)/n_points)\n",
    "\n",
    "    print('Linear regression using polyfit')\n",
    "    print('parameters: a=%.2f b=%.2f \\nregression: a=%.2f b=%.2f, ms error= %.3f' % (a,b,ar,br,err))\n",
    "\n",
    "    # Bokeh plotting\n",
    "    p1 = figure(title='Data without noise', plot_width=400, plot_height=400)\n",
    "    r1 = p1.circle(t, x, color='green')\n",
    "\n",
    "    p2 = figure(title='With noise',plot_width=400, plot_height=400)\n",
    "    r2 = p2.circle(t, xn, color='black')\n",
    "    r2 = p2.line(t, xr, color='blue', legend='Linear regression')\n",
    "\n",
    "    plot = show(row(p1,p2), notebook_handle=True)\n",
    "\n",
    "    return"
   ]
  },
  {
   "cell_type": "markdown",
   "metadata": {},
   "source": [
    "Here I choose to create a function because I wanted to use \"interact\". It's a very useful tool to add more interactivity into your notebooks.  \n",
    "More information there: http://ipywidgets.readthedocs.io/en/latest/examples/Using%20Interact.html"
   ]
  },
  {
   "cell_type": "markdown",
   "metadata": {},
   "source": [
    "The MSE represent the \"average distance\" between your data and the line. The goal is to **minimize this distance** so we can consider our model is the \"**most accurate**\". This concept is called \"**loss function**\".  \n",
    "\n",
    "$$\\mathscr{L} = \\frac{1}{n} \\sum_{i=1}^{n}(Y_i-\\widehat {Y_i})^2$$  \n",
    "$Y_i$ is the data (it is known) and $\\widehat{Y_i}$ is what we predicted (what we try to be accurate). So in the ideal case, $Y_i-\\widehat {Y_i}$ is equal to $0$! Or at least, the closest it is to $0$, the more accurate is our model.  \n",
    "\n",
    "![MSE concept](images/MSE_concept.png \"MSE concept\")"
   ]
  },
  {
   "cell_type": "markdown",
   "metadata": {},
   "source": [
    "This action of minimizing (or maximizing) the loss function is called: optimization. It's a mathematical field itself. So we are saying \"we want to optimize our loss function in order to improve our model accuracy\". And \"improving the accuracy of our model\" means \"approximating as much as we can the function\"."
   ]
  },
  {
   "cell_type": "markdown",
   "metadata": {},
   "source": [
    "Let's see another example of function approximation."
   ]
  },
  {
   "cell_type": "markdown",
   "metadata": {},
   "source": [
    "## Interpolation: another example of function approximation"
   ]
  },
  {
   "cell_type": "markdown",
   "metadata": {},
   "source": [
    "As before, we're first generating our dataset, based this time on sinus function. As this function is not linear, we cannot use polyfit as before. We will use a technic called \"interpolation\"."
   ]
  },
  {
   "cell_type": "code",
   "execution_count": null,
   "metadata": {
    "collapsed": true
   },
   "outputs": [],
   "source": [
    "def interpolation(n_samples):\n",
    "    # This function is generqting dataset based on the sinus function\n",
    "    # interpolating this function (on n_samples)\n",
    "    # and plot the data with bokeh\n",
    "    \n",
    "    \n",
    "    # n_points points of sin(x) in [0 10]\n",
    "    xx = np.linspace(0, 10, 40)\n",
    "    yy = np.sin(xx)\n",
    "\n",
    "    # n_samples sample of sin(x) in [0 10]\n",
    "    x = np.linspace(0, 10, n_samples)\n",
    "    y = np.sin(x)\n",
    "\n",
    "    # interpolation\n",
    "    xvals = np.linspace(0, 2*np.pi, n_samples)\n",
    "    yinterp = np.interp(xvals, x, y)\n",
    "\n",
    "    #bokeh plotting\n",
    "    p1 = figure(title='The function itself', plot_width=400, plot_height=400)\n",
    "    r1 = p1.line(xx, yy, color='green')\n",
    "\n",
    "    p2 = figure(title='The approximated function (interpolation)',plot_width=400, plot_height=400)\n",
    "    r2 = p2.circle(xvals, yinterp, color='black')\n",
    "    r2 = p2.line(xvals, yinterp, color='blue', legend='Linear regression')\n",
    "\n",
    "    plot = show(row(p1,p2), notebook_handle=True)\n",
    "    \n",
    "    return"
   ]
  },
  {
   "cell_type": "code",
   "execution_count": null,
   "metadata": {},
   "outputs": [],
   "source": [
    "interact(interpolation, n_samples = (2, 15, 1))"
   ]
  },
  {
   "cell_type": "markdown",
   "metadata": {},
   "source": [
    "You can notice that the more we have n_samples, the more our approximated function is accurate. "
   ]
  },
  {
   "cell_type": "code",
   "execution_count": null,
   "metadata": {
    "collapsed": true
   },
   "outputs": [],
   "source": []
  }
 ],
 "metadata": {
  "kernelspec": {
   "display_name": "Python 3",
   "language": "python",
   "name": "python3"
  },
  "language_info": {
   "codemirror_mode": {
    "name": "ipython",
    "version": 3
   },
   "file_extension": ".py",
   "mimetype": "text/x-python",
   "name": "python",
   "nbconvert_exporter": "python",
   "pygments_lexer": "ipython3",
   "version": "3.6.2"
  }
 },
 "nbformat": 4,
 "nbformat_minor": 2
}
