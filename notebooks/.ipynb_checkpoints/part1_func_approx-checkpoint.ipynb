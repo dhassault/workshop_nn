{
 "cells": [
  {
   "cell_type": "markdown",
   "metadata": {},
   "source": [
    "# What is approximating a function?"
   ]
  },
  {
   "cell_type": "code",
   "execution_count": null,
   "metadata": {
    "collapsed": true
   },
   "outputs": [],
   "source": [
    "from __future__ import print_function\n",
    "from ipywidgets import interact, interactive, fixed, interact_manual\n",
    "import ipywidgets as widgets"
   ]
  },
  {
   "cell_type": "markdown",
   "metadata": {},
   "source": [
    "## Linear regression: a simple example of function approximation"
   ]
  },
  {
   "cell_type": "code",
   "execution_count": null,
   "metadata": {},
   "outputs": [],
   "source": [
    "from bokeh.io import push_notebook, show, output_notebook\n",
    "from bokeh.layouts import row\n",
    "from bokeh.plotting import figure\n",
    "import numpy as np\n",
    "output_notebook()"
   ]
  },
  {
   "cell_type": "code",
   "execution_count": null,
   "metadata": {},
   "outputs": [],
   "source": [
    "def linear_regression(n, a, b):\n",
    "    # We are generating fake dataset with linear function\n",
    "    # Then adding some noise to make it \"real\"\n",
    "\n",
    "    #number of points \n",
    "    #n=50\n",
    "    t=np.linspace(-5,5,n)\n",
    "\n",
    "    #parameters\n",
    "    #a=0.8; b=-4\n",
    "    x=np.polyval([a,b],t)\n",
    "\n",
    "    #add some noise\n",
    "    xn=x+np.random.randn(n)\n",
    "\n",
    "    #Linear regressison -polyfit - polyfit can be used other orders polys\n",
    "    (ar,br)=np.polyfit(t,xn,1)\n",
    "    xr=np.polyval([ar,br],t)\n",
    "\n",
    "    #compute the mean square error (just for having an idea)\n",
    "    err=np.sqrt(sum((xr-xn)**2)/n)\n",
    "\n",
    "    print('Linear regression using polyfit')\n",
    "    print('parameters: a=%.2f b=%.2f \\nregression: a=%.2f b=%.2f, ms error= %.3f' % (a,b,ar,br,err))\n",
    "\n",
    "    #bokeh plotting\n",
    "    p1 = figure(title='Data without noise', plot_width=400, plot_height=400)\n",
    "    r1 = p1.circle(t, x, color='green')\n",
    "\n",
    "    p2 = figure(title='With noise',plot_width=400, plot_height=400)\n",
    "    r2 = p2.circle(t, xn, color='black')\n",
    "    r2 = p2.line(t, xr, color='blue', legend='Linear regression')\n",
    "\n",
    "    plot = show(row(p1,p2), notebook_handle=True)\n",
    "\n",
    "    return"
   ]
  },
  {
   "cell_type": "code",
   "execution_count": null,
   "metadata": {},
   "outputs": [],
   "source": [
    "interact(linear_regression, n=50, a=0.8, b=0);"
   ]
  },
  {
   "cell_type": "markdown",
   "metadata": {},
   "source": [
    "## Interpolation: another example of function approximation"
   ]
  },
  {
   "cell_type": "code",
   "execution_count": null,
   "metadata": {},
   "outputs": [],
   "source": [
    "# 50 points of sin(x) in [0 10]\n",
    "xx = np.linspace(0, 10, 50)\n",
    "yy = np.sin(xx)\n",
    "\n",
    "# 10 sample of sin(x) in [0 10]\n",
    "x = np.linspace(0, 10, 2)\n",
    "y = np.sin(x)\n",
    "\n",
    "# interpolation\n",
    "xvals = np.linspace(0, 2*np.pi, 2)\n",
    "yinterp = np.interp(xvals, x, y)\n",
    "\n",
    "#bokeh plotting\n",
    "p1 = figure(title='The function itself', plot_width=400, plot_height=400)\n",
    "r1 = p1.line(xx, yy, color='green')\n",
    "\n",
    "p2 = figure(title='The approximated function (interpolation)',plot_width=400, plot_height=400)\n",
    "r2 = p2.circle(xvals, yinterp, color='black')\n",
    "r2 = p2.line(xvals, yinterp, color='blue', legend='Linear regression')\n",
    "\n",
    "plot = show(row(p1,p2), notebook_handle=True)"
   ]
  },
  {
   "cell_type": "code",
   "execution_count": null,
   "metadata": {
    "collapsed": true
   },
   "outputs": [],
   "source": []
  }
 ],
 "metadata": {
  "kernelspec": {
   "display_name": "Python 3",
   "language": "python",
   "name": "python3"
  },
  "language_info": {
   "codemirror_mode": {
    "name": "ipython",
    "version": 3
   },
   "file_extension": ".py",
   "mimetype": "text/x-python",
   "name": "python",
   "nbconvert_exporter": "python",
   "pygments_lexer": "ipython3",
   "version": "3.6.1"
  }
 },
 "nbformat": 4,
 "nbformat_minor": 2
}
